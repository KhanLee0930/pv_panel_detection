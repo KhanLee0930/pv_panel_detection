{
 "cells": [
  {
   "cell_type": "code",
   "execution_count": null,
   "metadata": {},
   "outputs": [],
   "source": [
    "import ultralytics\n",
    "ultralytics.checks()\n",
    "# Load YOLOv8n-seg, train it on COCO128-seg for 3 epochs and predict an image with it\n",
    "from pathlib import Path\n",
    "from ultralytics import YOLO\n",
    "import torch\n",
    "\n",
    "ROOT = 'C:/Users/LIA9SGP/Desktop/Pipeline/'\n",
    "CKT = \"ckt/yolov8n-seg.pt\"\n",
    "OUT = \"outcome/\"\n",
    "CONFIG = \"Config/\"\n",
    "V3ConfigPath = ROOT + 'datasets/solar-pv-panel-detection.v3i.yolov8/data.yaml'\n",
    "# Load Own Model\n",
    "model = YOLO(ROOT+CKT)"
   ]
  },
  {
   "cell_type": "markdown",
   "metadata": {},
   "source": [
    "# Do the training "
   ]
  },
  {
   "cell_type": "code",
   "execution_count": null,
   "metadata": {},
   "outputs": [],
   "source": [
    "model.train(data=V3ConfigPath, epochs=1)  "
   ]
  },
  {
   "cell_type": "markdown",
   "metadata": {},
   "source": [
    "# Do the infernece"
   ]
  },
  {
   "cell_type": "code",
   "execution_count": null,
   "metadata": {},
   "outputs": [],
   "source": [
    "\n",
    "results = model(image)"
   ]
  },
  {
   "cell_type": "code",
   "execution_count": 2,
   "metadata": {},
   "outputs": [
    {
     "name": "stdout",
     "output_type": "stream",
     "text": [
      "(832, 832, 3)\n"
     ]
    }
   ],
   "source": [
    "import cv2 as cv\n",
    "img_path = r'C:\\Users\\LIA9SGP\\Desktop\\Pipeline\\YOLO\\data\\image_chips\\image_chips_hd\\solarpanels_hd_3__x0_28698_y0_15345_dxdy_832.tif'\n",
    "img = cv.imread(img_path)\n",
    "print(img.shape)\n"
   ]
  }
 ],
 "metadata": {
  "kernelspec": {
   "display_name": "YOLO",
   "language": "python",
   "name": "yolo"
  },
  "language_info": {
   "codemirror_mode": {
    "name": "ipython",
    "version": 3
   },
   "file_extension": ".py",
   "mimetype": "text/x-python",
   "name": "python",
   "nbconvert_exporter": "python",
   "pygments_lexer": "ipython3",
   "version": "3.8.19"
  }
 },
 "nbformat": 4,
 "nbformat_minor": 2
}
